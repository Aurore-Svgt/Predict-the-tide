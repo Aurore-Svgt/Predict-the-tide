{
 "cells": [
  {
   "cell_type": "code",
   "execution_count": 1,
   "id": "85d40df3",
   "metadata": {},
   "outputs": [],
   "source": [
    "import numpy as np\n",
    "import pandas as pd\n",
    "import seaborn as sns\n",
    "import matplotlib.pyplot as plt\n",
    "from threading import Thread \n",
    "from tqdm.notebook import tqdm\n",
    "from datetime import datetime"
   ]
  },
  {
   "cell_type": "code",
   "execution_count": 2,
   "id": "86bc7449",
   "metadata": {},
   "outputs": [],
   "source": [
    "X_train = np.load('X_train_surge.npz')\n",
    "Y_train = pd.read_csv('Y_train_surge.csv')\n",
    "X_test = np.load('X_test_surge_178mikI.npz')\n"
   ]
  },
  {
   "cell_type": "code",
   "execution_count": 8,
   "id": "b964d98a",
   "metadata": {},
   "outputs": [
    {
     "name": "stdout",
     "output_type": "stream",
     "text": [
      "id_sequence: (5599,)\n",
      "slp: (5599, 40, 41, 41)\n",
      "t_slp: (5599, 40)\n",
      "t_surge1_input: (5599, 10)\n",
      "surge1_input: (5599, 10)\n",
      "t_surge2_input: (5599, 10)\n",
      "surge2_input: (5599, 10)\n",
      "t_surge1_output: (5599, 10)\n",
      "t_surge2_output: (5599, 10)\n"
     ]
    }
   ],
   "source": [
    "for file in X_train.files:\n",
    "    print(f\"{file}: {X_train[file].shape}\")"
   ]
  },
  {
   "cell_type": "code",
   "execution_count": 9,
   "id": "ca50e329",
   "metadata": {},
   "outputs": [
    {
     "name": "stdout",
     "output_type": "stream",
     "text": [
      "id_sequence: (509,)\n",
      "t_slp: (509, 40)\n",
      "slp: (509, 40, 1681)\n",
      "t_surge1_input: (509, 10)\n",
      "surge1_input: (509, 10)\n",
      "t_surge2_input: (509, 10)\n",
      "surge2_input: (509, 10)\n",
      "t_surge1_output: (509, 10)\n",
      "t_surge2_output: (509, 10)\n"
     ]
    }
   ],
   "source": [
    "for file in X_test.files:\n",
    "    print(f\"{file}: {X_test[file].shape}\")"
   ]
  },
  {
   "cell_type": "code",
   "execution_count": 10,
   "id": "ff54f092",
   "metadata": {
    "scrolled": true
   },
   "outputs": [
    {
     "data": {
      "text/html": [
       "<div>\n",
       "<style scoped>\n",
       "    .dataframe tbody tr th:only-of-type {\n",
       "        vertical-align: middle;\n",
       "    }\n",
       "\n",
       "    .dataframe tbody tr th {\n",
       "        vertical-align: top;\n",
       "    }\n",
       "\n",
       "    .dataframe thead th {\n",
       "        text-align: right;\n",
       "    }\n",
       "</style>\n",
       "<table border=\"1\" class=\"dataframe\">\n",
       "  <thead>\n",
       "    <tr style=\"text-align: right;\">\n",
       "      <th></th>\n",
       "      <th>id_sequence</th>\n",
       "      <th>surge1_t0</th>\n",
       "      <th>surge1_t1</th>\n",
       "      <th>surge1_t2</th>\n",
       "      <th>surge1_t3</th>\n",
       "      <th>surge1_t4</th>\n",
       "      <th>surge1_t5</th>\n",
       "      <th>surge1_t6</th>\n",
       "      <th>surge1_t7</th>\n",
       "      <th>surge1_t8</th>\n",
       "      <th>...</th>\n",
       "      <th>surge2_t0</th>\n",
       "      <th>surge2_t1</th>\n",
       "      <th>surge2_t2</th>\n",
       "      <th>surge2_t3</th>\n",
       "      <th>surge2_t4</th>\n",
       "      <th>surge2_t5</th>\n",
       "      <th>surge2_t6</th>\n",
       "      <th>surge2_t7</th>\n",
       "      <th>surge2_t8</th>\n",
       "      <th>surge2_t9</th>\n",
       "    </tr>\n",
       "  </thead>\n",
       "  <tbody>\n",
       "    <tr>\n",
       "      <th>0</th>\n",
       "      <td>1</td>\n",
       "      <td>0.586936</td>\n",
       "      <td>1.069580</td>\n",
       "      <td>0.767928</td>\n",
       "      <td>-0.100162</td>\n",
       "      <td>0.070775</td>\n",
       "      <td>-0.244285</td>\n",
       "      <td>-0.354891</td>\n",
       "      <td>-0.928031</td>\n",
       "      <td>-0.773853</td>\n",
       "      <td>...</td>\n",
       "      <td>-0.053886</td>\n",
       "      <td>0.356847</td>\n",
       "      <td>0.348464</td>\n",
       "      <td>0.264641</td>\n",
       "      <td>0.901696</td>\n",
       "      <td>0.449052</td>\n",
       "      <td>0.113760</td>\n",
       "      <td>-0.422707</td>\n",
       "      <td>-0.456236</td>\n",
       "      <td>-0.825057</td>\n",
       "    </tr>\n",
       "    <tr>\n",
       "      <th>1</th>\n",
       "      <td>2</td>\n",
       "      <td>0.767928</td>\n",
       "      <td>-0.100162</td>\n",
       "      <td>0.070775</td>\n",
       "      <td>-0.244285</td>\n",
       "      <td>-0.354891</td>\n",
       "      <td>-0.928031</td>\n",
       "      <td>-0.773853</td>\n",
       "      <td>-0.375001</td>\n",
       "      <td>-0.361594</td>\n",
       "      <td>...</td>\n",
       "      <td>0.348464</td>\n",
       "      <td>0.264641</td>\n",
       "      <td>0.901696</td>\n",
       "      <td>0.449052</td>\n",
       "      <td>0.113760</td>\n",
       "      <td>-0.422707</td>\n",
       "      <td>-0.456236</td>\n",
       "      <td>-0.825057</td>\n",
       "      <td>-0.992703</td>\n",
       "      <td>-0.992703</td>\n",
       "    </tr>\n",
       "    <tr>\n",
       "      <th>2</th>\n",
       "      <td>3</td>\n",
       "      <td>0.070775</td>\n",
       "      <td>-0.244285</td>\n",
       "      <td>-0.354891</td>\n",
       "      <td>-0.928031</td>\n",
       "      <td>-0.773853</td>\n",
       "      <td>-0.375001</td>\n",
       "      <td>-0.361594</td>\n",
       "      <td>-0.210768</td>\n",
       "      <td>0.288635</td>\n",
       "      <td>...</td>\n",
       "      <td>0.901696</td>\n",
       "      <td>0.449052</td>\n",
       "      <td>0.113760</td>\n",
       "      <td>-0.422707</td>\n",
       "      <td>-0.456236</td>\n",
       "      <td>-0.825057</td>\n",
       "      <td>-0.992703</td>\n",
       "      <td>-0.992703</td>\n",
       "      <td>-0.322119</td>\n",
       "      <td>-0.883733</td>\n",
       "    </tr>\n",
       "    <tr>\n",
       "      <th>3</th>\n",
       "      <td>4</td>\n",
       "      <td>-0.354891</td>\n",
       "      <td>-0.928031</td>\n",
       "      <td>-0.773853</td>\n",
       "      <td>-0.375001</td>\n",
       "      <td>-0.361594</td>\n",
       "      <td>-0.210768</td>\n",
       "      <td>0.288635</td>\n",
       "      <td>-0.726929</td>\n",
       "      <td>-0.576103</td>\n",
       "      <td>...</td>\n",
       "      <td>0.113760</td>\n",
       "      <td>-0.422707</td>\n",
       "      <td>-0.456236</td>\n",
       "      <td>-0.825057</td>\n",
       "      <td>-0.992703</td>\n",
       "      <td>-0.992703</td>\n",
       "      <td>-0.322119</td>\n",
       "      <td>-0.883733</td>\n",
       "      <td>-0.473001</td>\n",
       "      <td>-0.422707</td>\n",
       "    </tr>\n",
       "    <tr>\n",
       "      <th>4</th>\n",
       "      <td>5</td>\n",
       "      <td>-0.773853</td>\n",
       "      <td>-0.375001</td>\n",
       "      <td>-0.361594</td>\n",
       "      <td>-0.210768</td>\n",
       "      <td>0.288635</td>\n",
       "      <td>-0.726929</td>\n",
       "      <td>-0.576103</td>\n",
       "      <td>1.160076</td>\n",
       "      <td>0.442813</td>\n",
       "      <td>...</td>\n",
       "      <td>-0.456236</td>\n",
       "      <td>-0.825057</td>\n",
       "      <td>-0.992703</td>\n",
       "      <td>-0.992703</td>\n",
       "      <td>-0.322119</td>\n",
       "      <td>-0.883733</td>\n",
       "      <td>-0.473001</td>\n",
       "      <td>-0.422707</td>\n",
       "      <td>-0.473001</td>\n",
       "      <td>-0.531677</td>\n",
       "    </tr>\n",
       "  </tbody>\n",
       "</table>\n",
       "<p>5 rows × 21 columns</p>\n",
       "</div>"
      ],
      "text/plain": [
       "   id_sequence  surge1_t0  surge1_t1  surge1_t2  surge1_t3  surge1_t4  \\\n",
       "0            1   0.586936   1.069580   0.767928  -0.100162   0.070775   \n",
       "1            2   0.767928  -0.100162   0.070775  -0.244285  -0.354891   \n",
       "2            3   0.070775  -0.244285  -0.354891  -0.928031  -0.773853   \n",
       "3            4  -0.354891  -0.928031  -0.773853  -0.375001  -0.361594   \n",
       "4            5  -0.773853  -0.375001  -0.361594  -0.210768   0.288635   \n",
       "\n",
       "   surge1_t5  surge1_t6  surge1_t7  surge1_t8  ...  surge2_t0  surge2_t1  \\\n",
       "0  -0.244285  -0.354891  -0.928031  -0.773853  ...  -0.053886   0.356847   \n",
       "1  -0.928031  -0.773853  -0.375001  -0.361594  ...   0.348464   0.264641   \n",
       "2  -0.375001  -0.361594  -0.210768   0.288635  ...   0.901696   0.449052   \n",
       "3  -0.210768   0.288635  -0.726929  -0.576103  ...   0.113760  -0.422707   \n",
       "4  -0.726929  -0.576103   1.160076   0.442813  ...  -0.456236  -0.825057   \n",
       "\n",
       "   surge2_t2  surge2_t3  surge2_t4  surge2_t5  surge2_t6  surge2_t7  \\\n",
       "0   0.348464   0.264641   0.901696   0.449052   0.113760  -0.422707   \n",
       "1   0.901696   0.449052   0.113760  -0.422707  -0.456236  -0.825057   \n",
       "2   0.113760  -0.422707  -0.456236  -0.825057  -0.992703  -0.992703   \n",
       "3  -0.456236  -0.825057  -0.992703  -0.992703  -0.322119  -0.883733   \n",
       "4  -0.992703  -0.992703  -0.322119  -0.883733  -0.473001  -0.422707   \n",
       "\n",
       "   surge2_t8  surge2_t9  \n",
       "0  -0.456236  -0.825057  \n",
       "1  -0.992703  -0.992703  \n",
       "2  -0.322119  -0.883733  \n",
       "3  -0.473001  -0.422707  \n",
       "4  -0.473001  -0.531677  \n",
       "\n",
       "[5 rows x 21 columns]"
      ]
     },
     "metadata": {},
     "output_type": "display_data"
    }
   ],
   "source": [
    "display(Y_train.head())"
   ]
  },
  {
   "cell_type": "markdown",
   "id": "dd7cefad",
   "metadata": {},
   "source": [
    "# Arranging data"
   ]
  },
  {
   "cell_type": "code",
   "execution_count": 11,
   "id": "38dd7a53",
   "metadata": {},
   "outputs": [],
   "source": [
    "convert = np.vectorize(lambda x: datetime.fromtimestamp(int(x)).strftime(\"%b %d, %Y %I:%M:%S\"))"
   ]
  },
  {
   "cell_type": "code",
   "execution_count": 12,
   "id": "4356704c",
   "metadata": {},
   "outputs": [
    {
     "name": "stdout",
     "output_type": "stream",
     "text": [
      "Time of surge input\n",
      "['Jan 01, 1950 01:00:00' 'Jan 02, 1950 01:00:00' 'Jan 02, 1950 01:59:44'\n",
      " 'Jan 03, 1950 01:59:44' 'Jan 03, 1950 03:00:32' 'Jan 04, 1950 02:59:28'\n",
      " 'Jan 04, 1950 03:00:32' 'Jan 05, 1950 02:59:28' 'Jan 05, 1950 04:00:16'\n",
      " 'Jan 06, 1950 04:00:16']\n",
      "\n",
      "Time of surge output\n",
      "['Jan 06, 1950 05:00:00' 'Jan 07, 1950 05:00:00' 'Jan 07, 1950 05:00:00'\n",
      " 'Jan 08, 1950 05:00:00' 'Jan 08, 1950 05:59:44' 'Jan 09, 1950 05:59:44'\n",
      " 'Jan 09, 1950 05:59:44' 'Jan 10, 1950 07:00:32' 'Jan 10, 1950 06:59:28'\n",
      " 'Jan 11, 1950 07:00:32']\n",
      "\n",
      "Time of slp input\n",
      "['Jan 01, 1950 09:59:44' 'Jan 02, 1950 01:00:00' 'Jan 02, 1950 04:00:16'\n",
      " 'Jan 02, 1950 07:00:32' 'Jan 02, 1950 09:59:44' 'Jan 02, 1950 01:00:00'\n",
      " 'Jan 02, 1950 04:00:16' 'Jan 02, 1950 06:59:28' 'Jan 02, 1950 09:59:44'\n",
      " 'Jan 03, 1950 01:00:00' 'Jan 03, 1950 04:00:16' 'Jan 03, 1950 07:00:32'\n",
      " 'Jan 03, 1950 09:59:44' 'Jan 03, 1950 01:00:00' 'Jan 03, 1950 04:00:16'\n",
      " 'Jan 03, 1950 06:59:28' 'Jan 03, 1950 09:59:44' 'Jan 04, 1950 01:00:00'\n",
      " 'Jan 04, 1950 04:00:16' 'Jan 04, 1950 07:00:32' 'Jan 04, 1950 09:59:44'\n",
      " 'Jan 04, 1950 01:00:00' 'Jan 04, 1950 04:00:16' 'Jan 04, 1950 06:59:28'\n",
      " 'Jan 04, 1950 09:59:44' 'Jan 05, 1950 01:00:00' 'Jan 05, 1950 04:00:16'\n",
      " 'Jan 05, 1950 07:00:32' 'Jan 05, 1950 09:59:44' 'Jan 05, 1950 01:00:00'\n",
      " 'Jan 05, 1950 04:00:16' 'Jan 05, 1950 06:59:28' 'Jan 05, 1950 09:59:44'\n",
      " 'Jan 06, 1950 01:00:00' 'Jan 06, 1950 04:00:16' 'Jan 06, 1950 07:00:32'\n",
      " 'Jan 06, 1950 09:59:44' 'Jan 06, 1950 01:00:00' 'Jan 06, 1950 04:00:16'\n",
      " 'Jan 06, 1950 06:59:28']\n",
      "\n"
     ]
    }
   ],
   "source": [
    "print(\"Time of surge input\")\n",
    "print(convert(X_train[\"t_surge1_input\"][0,:]))\n",
    "print()\n",
    "print(\"Time of surge output\")\n",
    "print(convert(X_train[\"t_surge1_output\"][0,:]))\n",
    "print()\n",
    "print(\"Time of slp input\")\n",
    "print(convert(X_train[\"t_slp\"][0,:]))\n",
    "print()"
   ]
  },
  {
   "cell_type": "markdown",
   "id": "e5070c07",
   "metadata": {},
   "source": [
    "# Correlation\n",
    "\n",
    "## With the SLP\n",
    "\n",
    "Let's study the correlation between the slp and the surge for each location\n"
   ]
  },
  {
   "cell_type": "code",
   "execution_count": 3,
   "id": "3ab9aaf6",
   "metadata": {
    "scrolled": false
   },
   "outputs": [
    {
     "ename": "KeyboardInterrupt",
     "evalue": "",
     "output_type": "error",
     "traceback": [
      "\u001b[0;31m---------------------------------------------------------------------------\u001b[0m",
      "\u001b[0;31mKeyboardInterrupt\u001b[0m                         Traceback (most recent call last)",
      "\u001b[0;32m/tmp/ipykernel_6552/2826976937.py\u001b[0m in \u001b[0;36m<module>\u001b[0;34m\u001b[0m\n\u001b[1;32m     22\u001b[0m         \u001b[0mt3\u001b[0m\u001b[0;34m.\u001b[0m\u001b[0mstart\u001b[0m\u001b[0;34m(\u001b[0m\u001b[0;34m)\u001b[0m\u001b[0;34m\u001b[0m\u001b[0;34m\u001b[0m\u001b[0m\n\u001b[1;32m     23\u001b[0m         \u001b[0mt4\u001b[0m\u001b[0;34m.\u001b[0m\u001b[0mstart\u001b[0m\u001b[0;34m(\u001b[0m\u001b[0;34m)\u001b[0m\u001b[0;34m\u001b[0m\u001b[0;34m\u001b[0m\u001b[0m\n\u001b[0;32m---> 24\u001b[0;31m         \u001b[0mt1\u001b[0m\u001b[0;34m.\u001b[0m\u001b[0mjoin\u001b[0m\u001b[0;34m(\u001b[0m\u001b[0;34m)\u001b[0m\u001b[0;34m\u001b[0m\u001b[0;34m\u001b[0m\u001b[0m\n\u001b[0m\u001b[1;32m     25\u001b[0m         \u001b[0mt2\u001b[0m\u001b[0;34m.\u001b[0m\u001b[0mjoin\u001b[0m\u001b[0;34m(\u001b[0m\u001b[0;34m)\u001b[0m\u001b[0;34m\u001b[0m\u001b[0;34m\u001b[0m\u001b[0m\n\u001b[1;32m     26\u001b[0m         \u001b[0mt3\u001b[0m\u001b[0;34m.\u001b[0m\u001b[0mjoin\u001b[0m\u001b[0;34m(\u001b[0m\u001b[0;34m)\u001b[0m\u001b[0;34m\u001b[0m\u001b[0;34m\u001b[0m\u001b[0m\n",
      "\u001b[0;32m~/miniconda3/envs/sdi/lib/python3.9/threading.py\u001b[0m in \u001b[0;36mjoin\u001b[0;34m(self, timeout)\u001b[0m\n\u001b[1;32m   1051\u001b[0m \u001b[0;34m\u001b[0m\u001b[0m\n\u001b[1;32m   1052\u001b[0m         \u001b[0;32mif\u001b[0m \u001b[0mtimeout\u001b[0m \u001b[0;32mis\u001b[0m \u001b[0;32mNone\u001b[0m\u001b[0;34m:\u001b[0m\u001b[0;34m\u001b[0m\u001b[0;34m\u001b[0m\u001b[0m\n\u001b[0;32m-> 1053\u001b[0;31m             \u001b[0mself\u001b[0m\u001b[0;34m.\u001b[0m\u001b[0m_wait_for_tstate_lock\u001b[0m\u001b[0;34m(\u001b[0m\u001b[0;34m)\u001b[0m\u001b[0;34m\u001b[0m\u001b[0;34m\u001b[0m\u001b[0m\n\u001b[0m\u001b[1;32m   1054\u001b[0m         \u001b[0;32melse\u001b[0m\u001b[0;34m:\u001b[0m\u001b[0;34m\u001b[0m\u001b[0;34m\u001b[0m\u001b[0m\n\u001b[1;32m   1055\u001b[0m             \u001b[0;31m# the behavior of a negative timeout isn't documented, but\u001b[0m\u001b[0;34m\u001b[0m\u001b[0;34m\u001b[0m\u001b[0m\n",
      "\u001b[0;32m~/miniconda3/envs/sdi/lib/python3.9/threading.py\u001b[0m in \u001b[0;36m_wait_for_tstate_lock\u001b[0;34m(self, block, timeout)\u001b[0m\n\u001b[1;32m   1067\u001b[0m         \u001b[0;32mif\u001b[0m \u001b[0mlock\u001b[0m \u001b[0;32mis\u001b[0m \u001b[0;32mNone\u001b[0m\u001b[0;34m:\u001b[0m  \u001b[0;31m# already determined that the C code is done\u001b[0m\u001b[0;34m\u001b[0m\u001b[0;34m\u001b[0m\u001b[0m\n\u001b[1;32m   1068\u001b[0m             \u001b[0;32massert\u001b[0m \u001b[0mself\u001b[0m\u001b[0;34m.\u001b[0m\u001b[0m_is_stopped\u001b[0m\u001b[0;34m\u001b[0m\u001b[0;34m\u001b[0m\u001b[0m\n\u001b[0;32m-> 1069\u001b[0;31m         \u001b[0;32melif\u001b[0m \u001b[0mlock\u001b[0m\u001b[0;34m.\u001b[0m\u001b[0macquire\u001b[0m\u001b[0;34m(\u001b[0m\u001b[0mblock\u001b[0m\u001b[0;34m,\u001b[0m \u001b[0mtimeout\u001b[0m\u001b[0;34m)\u001b[0m\u001b[0;34m:\u001b[0m\u001b[0;34m\u001b[0m\u001b[0;34m\u001b[0m\u001b[0m\n\u001b[0m\u001b[1;32m   1070\u001b[0m             \u001b[0mlock\u001b[0m\u001b[0;34m.\u001b[0m\u001b[0mrelease\u001b[0m\u001b[0;34m(\u001b[0m\u001b[0;34m)\u001b[0m\u001b[0;34m\u001b[0m\u001b[0;34m\u001b[0m\u001b[0m\n\u001b[1;32m   1071\u001b[0m             \u001b[0mself\u001b[0m\u001b[0;34m.\u001b[0m\u001b[0m_stop\u001b[0m\u001b[0;34m(\u001b[0m\u001b[0;34m)\u001b[0m\u001b[0;34m\u001b[0m\u001b[0;34m\u001b[0m\u001b[0m\n",
      "\u001b[0;31mKeyboardInterrupt\u001b[0m: "
     ]
    }
   ],
   "source": [
    "corr1 = np.zeros((41, 41))\n",
    "corr2 = np.zeros((41, 41))\n",
    "\n",
    "surge1 = X_train[\"surge1_input\"].reshape(-1)\n",
    "surge2 = X_train[\"surge2_input\"].reshape(-1)\n",
    "\n",
    "def correlation(i, j, a):\n",
    "    tmp_slp = X_train[\"slp\"][:,[ind + a for ind in indexes],i,j].reshape(-1)\n",
    "    corr1[i, j] += np.corrcoef(surge1, tmp_slp)[0,1]\n",
    "    corr2[i, j] += np.corrcoef(surge2, tmp_slp)[0,1]\n",
    "\n",
    "indexes = [t for t in range(40) if t%4==0 ]\n",
    "\n",
    "for i in range(41):\n",
    "    for j in range(41):\n",
    "        t1 = Thread(target=correlation, args=(i, j, 0))\n",
    "        t2 = Thread(target=correlation, args=(i, j, 1))\n",
    "        t3 = Thread(target=correlation, args=(i, j, 2))\n",
    "        t4 = Thread(target=correlation, args=(i, j, 3))\n",
    "        t1.start()\n",
    "        t2.start()\n",
    "        t3.start()\n",
    "        t4.start()\n",
    "        t1.join()\n",
    "        t2.join()\n",
    "        t3.join()\n",
    "        t4.join()\n",
    "        \n",
    "        corr1[i, j] /= 4\n",
    "        corr2[i, j] /= 4\n",
    "        \n",
    "ax1 = sns.heatmap(corr1, cmap=\"RdYlGn\")\n",
    "ax1.set_title(\"Location 1\")        "
   ]
  },
  {
   "cell_type": "code",
   "execution_count": null,
   "id": "e6757287",
   "metadata": {},
   "outputs": [],
   "source": [
    "ax2= sns.heatmap(corr2, cmap=\"RdYlGn\")\n",
    "ax2.set_title(\"Location 2\") "
   ]
  },
  {
   "cell_type": "markdown",
   "id": "invisible-burlington",
   "metadata": {},
   "source": [
    "## Between previous and future observations "
   ]
  },
  {
   "cell_type": "code",
   "execution_count": 4,
   "id": "spiritual-start",
   "metadata": {},
   "outputs": [
    {
     "data": {
      "image/png": "[encoded data removed]",
      "text/plain": [
       "<Figure size 432x288 with 2 Axes>"
      ]
     },
     "metadata": {
      "needs_background": "light"
     },
     "output_type": "display_data"
    }
   ],
   "source": [
    "surge1_columns = [\n",
    "    'surge1_t0', 'surge1_t1', 'surge1_t2', 'surge1_t3', 'surge1_t4',\n",
    "    'surge1_t5', 'surge1_t6', 'surge1_t7', 'surge1_t8', 'surge1_t9' ]\n",
    "ax = sns.heatmap(np.corrcoef(X_train[\"surge1_input\"].T, Y_train[surge1_columns].T), cmap=\"RdYlGn\")\n"
   ]
  },
  {
   "cell_type": "markdown",
   "id": "chubby-drinking",
   "metadata": {},
   "source": [
    "# Plotting the surge"
   ]
  },
  {
   "cell_type": "code",
   "execution_count": 6,
   "id": "identical-relaxation",
   "metadata": {
    "scrolled": false
   },
   "outputs": [
    {
     "ename": "NameError",
     "evalue": "name 'surge1_columns' is not defined",
     "output_type": "error",
     "traceback": [
      "\u001b[0;31m---------------------------------------------------------------------------\u001b[0m",
      "\u001b[0;31mNameError\u001b[0m                                 Traceback (most recent call last)",
      "\u001b[0;32m/tmp/ipykernel_11486/2618023579.py\u001b[0m in \u001b[0;36m<module>\u001b[0;34m\u001b[0m\n\u001b[1;32m      5\u001b[0m \u001b[0;34m\u001b[0m\u001b[0m\n\u001b[1;32m      6\u001b[0m \u001b[0;32mfor\u001b[0m \u001b[0mi\u001b[0m \u001b[0;32min\u001b[0m \u001b[0mrange\u001b[0m\u001b[0;34m(\u001b[0m\u001b[0mnb_plots\u001b[0m\u001b[0;34m)\u001b[0m\u001b[0;34m:\u001b[0m\u001b[0;34m\u001b[0m\u001b[0;34m\u001b[0m\u001b[0m\n\u001b[0;32m----> 7\u001b[0;31m     \u001b[0mdata\u001b[0m \u001b[0;34m=\u001b[0m \u001b[0mnp\u001b[0m\u001b[0;34m.\u001b[0m\u001b[0mappend\u001b[0m\u001b[0;34m(\u001b[0m\u001b[0mX_train\u001b[0m\u001b[0;34m[\u001b[0m\u001b[0;34m\"surge1_input\"\u001b[0m\u001b[0;34m]\u001b[0m\u001b[0;34m[\u001b[0m\u001b[0mindexes\u001b[0m\u001b[0;34m[\u001b[0m\u001b[0mi\u001b[0m\u001b[0;34m]\u001b[0m\u001b[0;34m,\u001b[0m\u001b[0;34m:\u001b[0m\u001b[0;34m]\u001b[0m\u001b[0;34m,\u001b[0m \u001b[0mY_train\u001b[0m\u001b[0;34m.\u001b[0m\u001b[0mloc\u001b[0m\u001b[0;34m[\u001b[0m\u001b[0mindexes\u001b[0m\u001b[0;34m[\u001b[0m\u001b[0mi\u001b[0m\u001b[0;34m]\u001b[0m\u001b[0;34m,\u001b[0m \u001b[0msurge1_columns\u001b[0m\u001b[0;34m]\u001b[0m\u001b[0;34m)\u001b[0m\u001b[0;34m\u001b[0m\u001b[0;34m\u001b[0m\u001b[0m\n\u001b[0m\u001b[1;32m      8\u001b[0m     \u001b[0mx_axis\u001b[0m \u001b[0;34m=\u001b[0m \u001b[0mnp\u001b[0m\u001b[0;34m.\u001b[0m\u001b[0mappend\u001b[0m\u001b[0;34m(\u001b[0m\u001b[0mX_train\u001b[0m\u001b[0;34m[\u001b[0m\u001b[0;34m\"t_surge1_input\"\u001b[0m\u001b[0;34m]\u001b[0m\u001b[0;34m[\u001b[0m\u001b[0mindexes\u001b[0m\u001b[0;34m[\u001b[0m\u001b[0mi\u001b[0m\u001b[0;34m]\u001b[0m\u001b[0;34m,\u001b[0m\u001b[0;34m:\u001b[0m\u001b[0;34m]\u001b[0m\u001b[0;34m,\u001b[0m \u001b[0mX_train\u001b[0m\u001b[0;34m[\u001b[0m\u001b[0;34m\"t_surge1_output\"\u001b[0m\u001b[0;34m]\u001b[0m\u001b[0;34m[\u001b[0m\u001b[0mindexes\u001b[0m\u001b[0;34m[\u001b[0m\u001b[0mi\u001b[0m\u001b[0;34m]\u001b[0m\u001b[0;34m,\u001b[0m\u001b[0;34m:\u001b[0m\u001b[0;34m]\u001b[0m\u001b[0;34m)\u001b[0m\u001b[0;34m\u001b[0m\u001b[0;34m\u001b[0m\u001b[0m\n\u001b[1;32m      9\u001b[0m     \u001b[0mf1\u001b[0m \u001b[0;34m=\u001b[0m \u001b[0minterpolate\u001b[0m\u001b[0;34m.\u001b[0m\u001b[0minterp1d\u001b[0m\u001b[0;34m(\u001b[0m\u001b[0mx_axis\u001b[0m\u001b[0;34m,\u001b[0m \u001b[0mdata\u001b[0m\u001b[0;34m,\u001b[0m\u001b[0mkind\u001b[0m \u001b[0;34m=\u001b[0m \u001b[0;34m'quadratic'\u001b[0m\u001b[0;34m)\u001b[0m\u001b[0;34m\u001b[0m\u001b[0;34m\u001b[0m\u001b[0m\n",
      "\u001b[0;31mNameError\u001b[0m: name 'surge1_columns' is not defined"
     ]
    },
    {
     "data": {
      "text/plain": [
       "<Figure size 1440x3600 with 0 Axes>"
      ]
     },
     "metadata": {},
     "output_type": "display_data"
    }
   ],
   "source": [
    "from scipy import interpolate\n",
    "nb_plots = 8\n",
    "indexes = np.random.randint(low=0, high=len(X_train[\"slp\"])-1, size=nb_plots)\n",
    "fig = plt.figure(figsize=(20,50))\n",
    "\n",
    "for i in range(nb_plots):\n",
    "    data = np.append(X_train[\"surge1_input\"][indexes[i],:], Y_train.loc[indexes[i], surge1_columns])\n",
    "    x_axis = np.append(X_train[\"t_surge1_input\"][indexes[i],:], X_train[\"t_surge1_output\"][indexes[i],:])\n",
    "    f1 = interpolate.interp1d(x_axis, data,kind = 'quadratic')\n",
    "    new_x = np.linspace(x_axis[0], x_axis[-1], 80)\n",
    "    ax = fig.add_subplot(nb_plots, 1, i+1)\n",
    "    ax.plot(x_axis, data, 'b--')\n",
    "    ax.plot(new_x, f1(new_x), 'g-')\n",
    "\n",
    "    ax.scatter(X_train[\"t_surge1_input\"][indexes[i],:], X_train[\"surge1_input\"][indexes[i],:], c='g', label='data')\n",
    "    ax.scatter(X_train[\"t_surge1_output\"][indexes[i],:], Y_train.loc[indexes[i], surge1_columns], c='r',label=\"to predict\")\n",
    "    ax.grid()"
   ]
  },
  {
   "cell_type": "markdown",
   "id": "located-roots",
   "metadata": {},
   "source": [
    "# PCA\n",
    "\n",
    "For each SLP field, the input is of size $41*41=1681$, if we multiply by the 40 observations for each input the number of features is of 67240 which is quite large. Not only does this increase the risk of overfitting, but it also lengthen the computation. A way of reducing the dimension of the input is to apply the PCA algorithm to the input data. Let's first visualize a few of the slp fields"
   ]
  },
  {
   "cell_type": "code",
   "execution_count": 7,
   "id": "failing-multiple",
   "metadata": {},
   "outputs": [
    {
     "data": {
      "image/png": "[encoded data removed]",
      "text/plain": [
       "<Figure size 1440x1080 with 4 Axes>"
      ]
     },
     "metadata": {
      "needs_background": "light"
     },
     "output_type": "display_data"
    }
   ],
   "source": [
    "from sklearn.preprocessing import MinMaxScaler\n",
    "scaler = MinMaxScaler(feature_range=(0, 255))\n",
    "slp_im = scaler.fit_transform(X_train[\"slp\"].reshape(-1, 1)).reshape(-1, 40, 41, 41)\n",
    "\n",
    "nb_plots = 4\n",
    "fig = plt.figure(figsize=(20,15))\n",
    "\n",
    "for i in range(nb_plots):\n",
    "    ax = fig.add_subplot(1, nb_plots, i+1)\n",
    "    plt.imshow(slp_im[indexes[i], np.random.randint(40), :,:])"
   ]
  },
  {
   "cell_type": "markdown",
   "id": "found-catch",
   "metadata": {},
   "source": [
    "## Number of components\n",
    "\n",
    "The equations behind the PCA will not be explained here, however, a first step is to select the right number of components. If this number is too low, only a fraction of the information will be kept and the model will not be able to yield promising results. On the other hand, if it is too high more variance will be kept but the number of features will be higher, and most of them will only add a little bit of variance."
   ]
  },
  {
   "cell_type": "code",
   "execution_count": 8,
   "id": "focal-istanbul",
   "metadata": {},
   "outputs": [
    {
     "data": {
      "image/png": "[encoded data removed]",
      "text/plain": [
       "<Figure size 432x288 with 1 Axes>"
      ]
     },
     "metadata": {
      "needs_background": "light"
     },
     "output_type": "display_data"
    }
   ],
   "source": [
    "from sklearn.decomposition import IncrementalPCA\n",
    "\n",
    "pca = IncrementalPCA(n_components=100)\n",
    "pca.fit(X_train[\"slp\"].reshape(len(X_train[\"slp\"])*40,41*41))\n",
    "variance = pca.explained_variance_ratio_\n",
    "\n",
    "plt.figure()\n",
    "plt.plot(variance, \"b\")\n",
    "plt.title(\"Ratio of variance explained by component\")\n",
    "plt.ylabel(\"% of variance\")\n",
    "plt.xlabel(\"Component\")\n",
    "plt.grid()"
   ]
  },
  {
   "cell_type": "markdown",
   "id": "exotic-superintendent",
   "metadata": {},
   "source": [
    "After around 15 components, adding more of them does not increase much the variance, let's see the first few components"
   ]
  },
  {
   "cell_type": "code",
   "execution_count": 9,
   "id": "elect-index",
   "metadata": {},
   "outputs": [
    {
     "data": {
      "image/png": "[encoded data removed]",
      "text/plain": [
       "<Figure size 1440x1080 with 5 Axes>"
      ]
     },
     "metadata": {
      "needs_background": "light"
     },
     "output_type": "display_data"
    }
   ],
   "source": [
    "nb_plots = 5\n",
    "fig = plt.figure(figsize=(20,15))\n",
    "scaler_comp = MinMaxScaler(range(1,255))\n",
    "comp = scaler_comp.fit_transform(pca.components_)\n",
    "\n",
    "for i in range(nb_plots):\n",
    "    ax = fig.add_subplot(1, nb_plots, i+1)\n",
    "    plt.imshow(comp[i, :].reshape(41,41))\n",
    "    plt.title(f\"Component {i+1}\")"
   ]
  },
  {
   "cell_type": "markdown",
   "id": "interim-field",
   "metadata": {},
   "source": [
    "# Input 2"
   ]
  },
  {
   "cell_type": "code",
   "execution_count": 5,
   "id": "abandoned-overview",
   "metadata": {
    "scrolled": true
   },
   "outputs": [
    {
     "name": "stdout",
     "output_type": "stream",
     "text": [
      "dict_keys(['1', '2', 'id'])\n"
     ]
    }
   ],
   "source": [
    "import pickle\n",
    "\n",
    "with open('new_X_train.pkl', 'rb') as f:\n",
    "    data = pickle.load(f)\n",
    "print(data.keys())"
   ]
  },
  {
   "cell_type": "code",
   "execution_count": 10,
   "id": "religious-reconstruction",
   "metadata": {},
   "outputs": [
    {
     "name": "stdout",
     "output_type": "stream",
     "text": [
      "(5599, 32, 1682)\n"
     ]
    }
   ],
   "source": [
    "print(data[\"1\"].reshape(5599, -1, 41*41+1).shape)"
   ]
  },
  {
   "cell_type": "markdown",
   "id": "annoying-grain",
   "metadata": {},
   "source": [
    "# Histogram "
   ]
  },
  {
   "cell_type": "code",
   "execution_count": 19,
   "id": "answering-savings",
   "metadata": {},
   "outputs": [
    {
     "data": {
      "text/plain": [
       "Text(0.5, 1.0, 'Surge distribution')"
      ]
     },
     "execution_count": 19,
     "metadata": {},
     "output_type": "execute_result"
    },
    {
     "data": {
      "image/png": "[encoded data removed]",
      "text/plain": [
       "<Figure size 432x288 with 1 Axes>"
      ]
     },
     "metadata": {
      "needs_background": "light"
     },
     "output_type": "display_data"
    }
   ],
   "source": [
    "surge1_columns = [\n",
    "    'surge1_t0', 'surge1_t1', 'surge1_t2', 'surge1_t3', 'surge1_t4',\n",
    "    'surge1_t5', 'surge1_t6', 'surge1_t7', 'surge1_t8', 'surge1_t9' ]\n",
    "\n",
    "surge2_columns = [\n",
    "    'surge2_t0', 'surge2_t1', 'surge2_t2', 'surge2_t3', 'surge2_t4',\n",
    "    'surge2_t5', 'surge2_t6', 'surge2_t7', 'surge2_t8', 'surge2_t9' ]\n",
    "\n",
    "surge = np.concatenate((X_train[\"surge1_input\"].flatten(), X_train[\"surge2_input\"].flatten(),\n",
    "                  X_test[\"surge1_input\"].flatten(), X_test[\"surge2_input\"].flatten(), \n",
    "                  Y_train[surge1_columns+surge2_columns].to_numpy().flatten()), axis=0)\n",
    "\n",
    "plt.hist(surge, bins=1000)\n",
    "plt.title(\"Surge distribution\")"
   ]
  }
 ],
 "metadata": {
  "kernelspec": {
   "display_name": "sdi",
   "language": "python",
   "name": "sdi"
  },
  "language_info": {
   "codemirror_mode": {
    "name": "ipython",
    "version": 3
   },
   "file_extension": ".py",
   "mimetype": "text/x-python",
   "name": "python",
   "nbconvert_exporter": "python",
   "pygments_lexer": "ipython3",
   "version": "3.9.10"
  }
 },
 "nbformat": 4,
 "nbformat_minor": 5
}
